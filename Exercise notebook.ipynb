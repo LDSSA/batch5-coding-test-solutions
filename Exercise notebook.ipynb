{
 "cells": [
  {
   "cell_type": "code",
   "execution_count": null,
   "id": "ba564313",
   "metadata": {
    "nbgrader": {
     "grade": false,
     "grade_id": "cell-12741539b8d7477e",
     "locked": true,
     "schema_version": 3,
     "solution": false,
     "task": false
    }
   },
   "outputs": [],
   "source": [
    "import csv\n",
    "import json\n",
    "import numpy as np\n",
    "import warnings"
   ]
  },
  {
   "cell_type": "markdown",
   "id": "37f3c23c",
   "metadata": {
    "nbgrader": {
     "grade": false,
     "grade_id": "cell-e55ab50f44ce8230",
     "locked": true,
     "schema_version": 3,
     "solution": false,
     "task": false
    }
   },
   "source": [
    "### Exercise 1 (4 points)\n",
    "\n",
    "This exercise is a quiz with 10 multiple answer questions.\n",
    "In the cell below, we've declared a dictionary called `answers`.\n",
    "\n",
    "You should fill in that dictionary with your answers, using as keys the question number, like `question_x`, and as values the number from `1` to `4` that corresponds to the right answer.\n",
    "For each question, you should provide only one answer, i.e, the dict values should have type **int**.\n",
    "\n",
    "For example, if you want to answer Question 1 with choice number 2, then you do:\n",
    "```\n",
    "answers[\"question_1\"] = 2\n",
    "```\n",
    "\n",
    "Each correct answer is worth 0.4 points."
   ]
  },
  {
   "cell_type": "code",
   "execution_count": null,
   "id": "daff2489",
   "metadata": {
    "nbgrader": {
     "grade": false,
     "grade_id": "cell-7931a1fa9927bfac",
     "locked": true,
     "schema_version": 3,
     "solution": false,
     "task": false
    }
   },
   "outputs": [],
   "source": [
    "answers = {}"
   ]
  },
  {
   "cell_type": "markdown",
   "id": "36af7bc3",
   "metadata": {
    "nbgrader": {
     "grade": false,
     "grade_id": "cell-ab8a1fa3b7d135da",
     "locked": true,
     "schema_version": 3,
     "solution": false,
     "task": false
    }
   },
   "source": [
    "#### Question 1\n",
    "Which command can you use to print the path of the current working directory in the terminal of a Unix based machine?\n",
    "1. cd .\n",
    "2. ls .\n",
    "3. pwd\n",
    "4. cd"
   ]
  },
  {
   "cell_type": "code",
   "execution_count": null,
   "id": "87c5e2ee",
   "metadata": {
    "nbgrader": {
     "grade": false,
     "grade_id": "cell-c87b80092d254365",
     "locked": false,
     "schema_version": 3,
     "solution": true,
     "task": false
    }
   },
   "outputs": [],
   "source": [
    "### BEGIN SOLUTION\n",
    "answers[\"question_1\"] = 3\n",
    "### END SOLUTION\n",
    "\n",
    "\n",
    "# answers[\"question_1\"] = ..."
   ]
  },
  {
   "cell_type": "markdown",
   "id": "ca4eeb8f",
   "metadata": {
    "nbgrader": {
     "grade": false,
     "grade_id": "cell-f038eadccb6996bb",
     "locked": true,
     "schema_version": 3,
     "solution": false,
     "task": false
    }
   },
   "source": [
    "#### Question 2\n",
    "If you want to remove a file `data.csv` located in a sub directory `subdir` using the terminal of a Unix based machine, which of these commands can you use?\n",
    "1. rm data.csv\n",
    "2. rm subdir/data.csv\n",
    "3. rm -r subdir\n",
    "4. mv data.csv subdir"
   ]
  },
  {
   "cell_type": "code",
   "execution_count": null,
   "id": "c2fd8a94",
   "metadata": {
    "nbgrader": {
     "grade": false,
     "grade_id": "cell-c1fc749530d189a6",
     "locked": false,
     "schema_version": 3,
     "solution": true,
     "task": false
    }
   },
   "outputs": [],
   "source": [
    "### BEGIN SOLUTION\n",
    "answers[\"question_2\"] = 2\n",
    "### END SOLUTION\n",
    "\n",
    "\n",
    "# answers[\"question_2\"] = ..."
   ]
  },
  {
   "cell_type": "markdown",
   "id": "8536dca0",
   "metadata": {
    "nbgrader": {
     "grade": false,
     "grade_id": "cell-0863798ee3e2ddc3",
     "locked": true,
     "schema_version": 3,
     "solution": false,
     "task": false
    }
   },
   "source": [
    "#### Question 3\n",
    "In the terminal of a Unix based machine, which of these commands would you use to print the initial 5 lines of a file named `data.csv`?\n",
    "1. head -5 data.csv\n",
    "2. tail -5 data.csv\n",
    "3. cat data.csv\n",
    "4. ls -la data.csv"
   ]
  },
  {
   "cell_type": "code",
   "execution_count": null,
   "id": "061f22dc",
   "metadata": {
    "nbgrader": {
     "checksum": "a8005de2fcfd4047eee7c283923dc148",
     "grade": false,
     "grade_id": "cell-98b6eeed9f5eb544",
     "locked": false,
     "schema_version": 3,
     "solution": true,
     "task": false
    }
   },
   "outputs": [],
   "source": [
    "### BEGIN SOLUTION\n",
    "answers[\"question_3\"] = 1\n",
    "### END SOLUTION\n",
    "\n",
    "\n",
    "# answers[\"question_3\"] = ..."
   ]
  },
  {
   "cell_type": "markdown",
   "id": "4380cbd6",
   "metadata": {
    "nbgrader": {
     "grade": false,
     "grade_id": "cell-336f73eca13a8ebc",
     "locked": true,
     "schema_version": 3,
     "solution": false,
     "task": false
    }
   },
   "source": [
    "#### Question 4\n",
    "In the terminal of a Unix based machine, if you want to see the size of the files in the current directory, in a human readable format, which command is the best option?\n",
    "1. ls\n",
    "2. ls .\n",
    "3. ls -la\n",
    "4. ls -lh"
   ]
  },
  {
   "cell_type": "code",
   "execution_count": null,
   "id": "785b71ef",
   "metadata": {
    "nbgrader": {
     "grade": false,
     "grade_id": "cell-151e77358095531d",
     "locked": false,
     "schema_version": 3,
     "solution": true,
     "task": false
    }
   },
   "outputs": [],
   "source": [
    "### BEGIN SOLUTION\n",
    "answers[\"question_4\"] = 4\n",
    "### END SOLUTION\n",
    "\n",
    "\n",
    "# answers[\"question_4\"] = ..."
   ]
  },
  {
   "cell_type": "markdown",
   "id": "e70ef94d",
   "metadata": {
    "nbgrader": {
     "grade": false,
     "grade_id": "cell-1f8f1182f5365fba",
     "locked": true,
     "schema_version": 3,
     "solution": false,
     "task": false
    }
   },
   "source": [
    "#### Question 5\n",
    "If you are working on a project using git as a version control system and you changed a file `utils.py`, how do you commit your changes to a local branch?\n",
    "1. `git add utils.py & git commit -m \"updates helper function\"`\n",
    "2. `git status & git commit -m \"updates helper function\"`\n",
    "3. `git status & git push`\n",
    "4. `git add utils.py & git push`"
   ]
  },
  {
   "cell_type": "code",
   "execution_count": null,
   "id": "4d984b64",
   "metadata": {
    "nbgrader": {
     "grade": false,
     "grade_id": "cell-fc82bf7c933cc552",
     "locked": false,
     "schema_version": 3,
     "solution": true,
     "task": false
    }
   },
   "outputs": [],
   "source": [
    "### BEGIN SOLUTION\n",
    "answers[\"question_5\"] = 1\n",
    "### END SOLUTION\n",
    "\n",
    "\n",
    "# answers[\"question_5\"] = ..."
   ]
  },
  {
   "cell_type": "markdown",
   "id": "c5523264",
   "metadata": {
    "nbgrader": {
     "grade": false,
     "grade_id": "cell-ea6aee265aa40c6c",
     "locked": true,
     "schema_version": 3,
     "solution": false,
     "task": false
    }
   },
   "source": [
    "#### Question 6\n",
    "If you are using git to version control a project and you want to avoid that files with names starting with `data` are commited, what do you do?\n",
    "1. Run the command `git rm data`\n",
    "2. Add `data*` to the `.gitignore` file\n",
    "3. Run the command `git rm data*`\n",
    "4. Add `data` to the `.gitignore` file"
   ]
  },
  {
   "cell_type": "code",
   "execution_count": null,
   "id": "0891c491",
   "metadata": {
    "nbgrader": {
     "grade": false,
     "grade_id": "cell-28d4124915005816",
     "locked": false,
     "schema_version": 3,
     "solution": true,
     "task": false
    }
   },
   "outputs": [],
   "source": [
    "### BEGIN SOLUTION\n",
    "answers[\"question_6\"] = 2\n",
    "### END SOLUTION\n",
    "\n",
    "\n",
    "# answers[\"question_6\"] = ..."
   ]
  },
  {
   "cell_type": "markdown",
   "id": "ff4008b5",
   "metadata": {
    "nbgrader": {
     "grade": false,
     "grade_id": "cell-94a3cc72a51f0f0e",
     "locked": true,
     "schema_version": 3,
     "solution": false,
     "task": false
    }
   },
   "source": [
    "#### Question 7\n",
    "Which one of the following sentences is false?\n",
    "1. Dictionaries can have duplicated keys.\n",
    "2. Dictionaries can have duplicated values.\n",
    "2. Lists can have duplicated elements.\n",
    "3. Tuples can have duplicated elements."
   ]
  },
  {
   "cell_type": "code",
   "execution_count": null,
   "id": "ec392e76",
   "metadata": {
    "nbgrader": {
     "grade": false,
     "grade_id": "cell-8bf8a029ce326cc8",
     "locked": false,
     "schema_version": 3,
     "solution": true,
     "task": false
    }
   },
   "outputs": [],
   "source": [
    "### BEGIN SOLUTION\n",
    "answers[\"question_7\"] = 1\n",
    "### END SOLUTION\n",
    "\n",
    "\n",
    "# answers[\"question_7\"] = ..."
   ]
  },
  {
   "cell_type": "markdown",
   "id": "2c6cb22e",
   "metadata": {
    "nbgrader": {
     "grade": false,
     "grade_id": "cell-300243b3eb856ed8",
     "locked": true,
     "schema_version": 3,
     "solution": false,
     "task": false
    }
   },
   "source": [
    "#### Question 8\n",
    "To interrupt a `for` loop iteration and start the next iteration, which instruction would you use?\n",
    "1. stop\n",
    "2. continue\n",
    "3. break\n",
    "4. start"
   ]
  },
  {
   "cell_type": "code",
   "execution_count": null,
   "id": "0a227518",
   "metadata": {
    "nbgrader": {
     "grade": false,
     "grade_id": "cell-fe303ff800b35243",
     "locked": false,
     "schema_version": 3,
     "solution": true,
     "task": false
    }
   },
   "outputs": [],
   "source": [
    "### BEGIN SOLUTION\n",
    "answers[\"question_8\"] = 2\n",
    "### END SOLUTION\n",
    "\n",
    "\n",
    "# answers[\"question_8\"] = ..."
   ]
  },
  {
   "cell_type": "markdown",
   "id": "889148d4",
   "metadata": {
    "nbgrader": {
     "grade": false,
     "grade_id": "cell-3308651c63a2fdfc",
     "locked": true,
     "schema_version": 3,
     "solution": false,
     "task": false
    }
   },
   "source": [
    "#### Question 9\n",
    "How do you import function `my_function` from module `my_module`?\n",
    "1. import my_function\n",
    "2. import my_module\n",
    "3. from my_function import my_module\n",
    "4. from my_module import my_function"
   ]
  },
  {
   "cell_type": "code",
   "execution_count": null,
   "id": "b0ba5029",
   "metadata": {
    "nbgrader": {
     "grade": false,
     "grade_id": "cell-c2eef7f0328b8ba7",
     "locked": false,
     "schema_version": 3,
     "solution": true,
     "task": false
    }
   },
   "outputs": [],
   "source": [
    "### BEGIN SOLUTION\n",
    "answers[\"question_9\"] = 4\n",
    "### END SOLUTION\n",
    "\n",
    "\n",
    "# answers[\"question_9\"] = ..."
   ]
  },
  {
   "cell_type": "markdown",
   "id": "05c7c324",
   "metadata": {
    "nbgrader": {
     "grade": false,
     "grade_id": "cell-d9966d01035f7825",
     "locked": true,
     "schema_version": 3,
     "solution": false,
     "task": false
    }
   },
   "source": [
    "#### Question 10\n",
    "In which occasion should you use a try/except block and raise an exception?\n",
    "1. to run a block of code based on a condition\n",
    "2. to avoid that a program fails\n",
    "3. to run a block of code repeatedly\n",
    "4. to stop a program if an unexpected condition is found"
   ]
  },
  {
   "cell_type": "code",
   "execution_count": null,
   "id": "310fd083",
   "metadata": {
    "nbgrader": {
     "grade": false,
     "grade_id": "cell-e55806749e917025",
     "locked": false,
     "schema_version": 3,
     "solution": true,
     "task": false
    }
   },
   "outputs": [],
   "source": [
    "### BEGIN SOLUTION\n",
    "answers[\"question_10\"] = 4\n",
    "### END SOLUTION\n",
    "\n",
    "\n",
    "# answers[\"question_10\"] = ..."
   ]
  },
  {
   "cell_type": "code",
   "execution_count": null,
   "id": "dd08bd25",
   "metadata": {
    "nbgrader": {
     "grade": true,
     "grade_id": "cell-e8e8abee625de5d7",
     "locked": true,
     "points": 4,
     "schema_version": 3,
     "solution": false,
     "task": false
    }
   },
   "outputs": [],
   "source": [
    "# This cell runs some hidden tests.\n",
    "# To see how much you scored in this question, please submit your notebook in the portal.\n",
    "\n",
    "### BEGIN HIDDEN TESTS\n",
    "from hidden_tests import test_exercise_1\n",
    "test_exercise_1(answers)\n",
    "### END HIDDEN TESTS"
   ]
  },
  {
   "cell_type": "markdown",
   "id": "fcbf7e0f",
   "metadata": {
    "nbgrader": {
     "grade": false,
     "grade_id": "cell-12484dcab836a341",
     "locked": true,
     "schema_version": 3,
     "solution": false,
     "task": false
    }
   },
   "source": [
    "### Exercise 2\n",
    "\n",
    "Consider the csv file `products.csv`, included in the zip file you downloaded with this notebook. This file contains four columns describing products available at Supermarket X:\n",
    "- `name`: product name\n",
    "- `category`: product category\n",
    "- `price_kg`: price per kilogram of product, in units of €/kg\n",
    "- `kcal_kg`: nutritional energy per kilogram of product, in units of kcal/kg"
   ]
  },
  {
   "cell_type": "markdown",
   "id": "2dc8e965",
   "metadata": {
    "nbgrader": {
     "grade": false,
     "grade_id": "cell-cd857bc1f1a35932",
     "locked": true,
     "schema_version": 3,
     "solution": false,
     "task": false
    }
   },
   "source": [
    "#### Part I (2 points)\n",
    "\n",
    "Implement a function that reads a file with the same format as the `products.csv` file, and stores the data in a dictionary with the following structure:\n",
    "\n",
    "```\n",
    "{\n",
    "    \"[product_name]\": {\n",
    "        \"idx\": row number in the input file, not considering the header,\n",
    "               i.e, the first row with data values has idx=0 (type: int),\n",
    "        \"category\": category (type: str)\n",
    "        \"price_kg\": price per kg value (type: float),\n",
    "        \"kcal_kg\": nutritional energy per kg value (type: float)\n",
    "    },\n",
    "}\n",
    "\n",
    "```\n",
    "\n",
    "For example, if the first line in `products.csv` relates to product with name `\"Banana\"`, category `\"fruit\"`, price per kg `1.1` and nutritional energy per kg `890`, then the dictionary should contain the item\n",
    "\n",
    "```\n",
    "{\n",
    "    \"Banana\": {\n",
    "        \"idx\": 0,\n",
    "        \"category\": \"fruit\"\n",
    "        \"price_kg\": 1.1,\n",
    "        \"kcal_kg\": 890.0,\n",
    "    },\n",
    "}\n",
    "\n",
    "```\n",
    "\n",
    "The function should be called `read_products`. It should receive an argument `filepath`, that indicates the path to the file that the function should read the data from, and return the dictionary with product data."
   ]
  },
  {
   "cell_type": "code",
   "execution_count": null,
   "id": "d219649c",
   "metadata": {
    "nbgrader": {
     "grade": false,
     "grade_id": "cell-fd56150b3fe08280",
     "locked": false,
     "schema_version": 3,
     "solution": true,
     "task": false
    }
   },
   "outputs": [],
   "source": [
    "def read_products(filepath):\n",
    "    \"\"\"\n",
    "    Reads the file in filepath, parses it and returns the data in a dictionary.\n",
    "\n",
    "    Parameters:\n",
    "    filepath (str): Path to the input file to be parsed.\n",
    "\n",
    "    Returns:\n",
    "    products_parsed_data (dict): Products dataset stored as a dictionary, where\n",
    "    the keys are product names and the values are data about the product.\n",
    "    \"\"\"\n",
    "    \n",
    "    ### BEGIN SOLUTION\n",
    "    import csv\n",
    "\n",
    "    products_parsed_data = {}\n",
    "    with open(filepath, \"r\") as fp:\n",
    "        reader = csv.reader(fp)\n",
    "        for i, row in enumerate(reader):\n",
    "            if i == 0:\n",
    "                continue\n",
    "\n",
    "            products_parsed_data[row[0]] = {\n",
    "                \"idx\": i - 1,\n",
    "                \"category\": row[1],\n",
    "                \"price_kg\": float(row[2]),\n",
    "                \"kcal_kg\": float(row[3]),\n",
    "            }\n",
    "    \n",
    "    return products_parsed_data\n",
    "\n",
    "    ### END SOLUTION"
   ]
  },
  {
   "cell_type": "code",
   "execution_count": null,
   "id": "4bbe4151",
   "metadata": {
    "nbgrader": {
     "grade": true,
     "grade_id": "cell-3169e339199d3588",
     "locked": true,
     "points": 2,
     "schema_version": 3,
     "solution": false,
     "task": false
    }
   },
   "outputs": [],
   "source": [
    "# This cell has tests to evaluate your answer\n",
    "# If the cell runs successfully, and no errors are raised, then you get the full score for this exercise\n",
    "# Otherwise, you are not granted any points\n",
    "\n",
    "\n",
    "products_data = read_products(\"products.csv\")\n",
    "\n",
    "assert len(products_data) == 13\n",
    "\n",
    "assert \"Avocado\" in products_data\n",
    "avocado = products_data[\"Avocado\"]\n",
    "assert avocado[\"idx\"] == 6\n",
    "assert avocado[\"category\"] == \"fruit\"\n",
    "assert isinstance(avocado[\"price_kg\"], float)\n",
    "assert isinstance(avocado[\"kcal_kg\"], float)\n",
    "np.testing.assert_almost_equal(avocado[\"price_kg\"], 4.5, decimal=1)\n",
    "np.testing.assert_almost_equal(avocado[\"kcal_kg\"], 1600, decimal=1)\n",
    "\n",
    "from more_tests import test_exercise_2_I\n",
    "test_exercise_2_I(read_products)"
   ]
  },
  {
   "cell_type": "markdown",
   "id": "32f1d5b3",
   "metadata": {
    "nbgrader": {
     "grade": false,
     "grade_id": "cell-fa3a6eb98a431441",
     "locked": true,
     "schema_version": 3,
     "solution": false,
     "task": false
    }
   },
   "source": [
    "#### Part II (3 points)\n",
    "\n",
    "Consider now that we want to prepare a recipe that uses the products parsed from the file `products.csv`. Consider that this recipe is represented in a dictionary, where keys are product names and values are the weights (in kg) of the corresponding products required to prepare the recipe.\n",
    "\n",
    "Implement a function called `recipe_price_kcal` that calculates the total price and nutritional energy of the recipe. The function should receive as input two dictionaries, representing:\n",
    "\n",
    "i) the products, using the same structure as the dictionary we created in Part I of this exercise, and\n",
    "\n",
    "ii) the recipe (in which keys are product names and values are the amount required, in kg).\n",
    "\n",
    "You can assume that all products required to prepare the recipe are available in the products dictionary.\n",
    "The function should return the price and nutritional energy of the recipe in a tuple."
   ]
  },
  {
   "cell_type": "code",
   "execution_count": null,
   "id": "d90ec32f",
   "metadata": {
    "nbgrader": {
     "grade": false,
     "grade_id": "cell-1346db6f517997b7",
     "locked": false,
     "schema_version": 3,
     "solution": true,
     "task": false
    }
   },
   "outputs": [],
   "source": [
    "def recipe_price_kcal(products, recipe):\n",
    "    \"\"\"\n",
    "    Computes the total price and nutritional energy of a recipe.\n",
    "\n",
    "    Parameters:\n",
    "    products (dict): Dictionary with the products dataset.\n",
    "    recipe (dict): Dictionary with recipe data.\n",
    "\n",
    "    Returns:\n",
    "    price_kcal (tuple): Tuple with the total price and nutritional energy of \n",
    "    the recipe in the first and second elements, respectively.\n",
    "    \"\"\"\n",
    "    \n",
    "    ### BEGIN SOLUTION\n",
    "    price = 0\n",
    "    kcal = 0\n",
    "    \n",
    "    for product, quantity in recipe.items():\n",
    "        price += products[product][\"price_kg\"] * quantity\n",
    "        kcal += products[product][\"kcal_kg\"] * quantity\n",
    "    \n",
    "    return (price, kcal)\n",
    "    ### END SOLUTION"
   ]
  },
  {
   "cell_type": "code",
   "execution_count": null,
   "id": "fbf5968e",
   "metadata": {
    "nbgrader": {
     "grade": true,
     "grade_id": "cell-5493c05da85f0a2d",
     "locked": true,
     "points": 3,
     "schema_version": 3,
     "solution": false,
     "task": false
    }
   },
   "outputs": [],
   "source": [
    "# This cell has tests to evaluate your answer\n",
    "# If the cell runs successfully, and no errors are raised, then you get the full score for this exercise\n",
    "# Otherwise, you are not granted any points\n",
    "\n",
    "\n",
    "iogurt_cake_products_data = {\n",
    "    \"Flour\": {\"idx\": 0, \"category\": \"cereal\", \"price_kg\": 0.5, \"kcal_kg\": 3500.0},\n",
    "    \"Sugar\": {\"idx\": 1, \"category\": \"other\", \"price_kg\": 0.7, \"kcal_kg\": 4000.0},\n",
    "    \"Egg\": {\"idx\": 2, \"category\": \"protein\", \"price_kg\": 6.5, \"kcal_kg\": 1320.0},\n",
    "    \"Iogurt\": {\"idx\": 3, \"category\": \"dairy\", \"price_kg\": 2.3, \"kcal_kg\": 1300.0},\n",
    "    \"Sunflower oil\": {\"idx\": 4, \"category\": \"oil\", \"price_kg\": 1.7, \"kcal_kg\": 8300.0},\n",
    "}\n",
    "\n",
    "iogurt_cake_recipe = {\n",
    "    \"Flour\": 0.3,\n",
    "    \"Sugar\": 0.3,\n",
    "    \"Egg\": 0.3,\n",
    "    \"Iogurt\": 0.2,\n",
    "    \"Sunflower oil\": 0.1\n",
    "}\n",
    "\n",
    "price_kcal = recipe_price_kcal(iogurt_cake_products_data, iogurt_cake_recipe)\n",
    "\n",
    "assert isinstance(price_kcal, tuple)\n",
    "assert len(price_kcal) == 2\n",
    "np.testing.assert_almost_equal(price_kcal[0], 2.94, decimal=2)\n",
    "np.testing.assert_almost_equal(price_kcal[1], 3736, decimal=2)\n",
    "\n",
    "from more_tests import test_exercise_2_II\n",
    "test_exercise_2_II(recipe_price_kcal)"
   ]
  },
  {
   "cell_type": "markdown",
   "id": "bcb7675c",
   "metadata": {
    "nbgrader": {
     "grade": false,
     "grade_id": "cell-eafba357e34abc80",
     "locked": true,
     "schema_version": 3,
     "solution": false,
     "task": false
    }
   },
   "source": [
    "### Exercise 3\n",
    "\n",
    "In this exercise, we will use object oriented programming concepts to model a **bus** and determine its ocupation along a given route."
   ]
  },
  {
   "cell_type": "markdown",
   "id": "4519d71b",
   "metadata": {
    "nbgrader": {
     "grade": false,
     "grade_id": "cell-1bc773a600f5ded1",
     "locked": true,
     "schema_version": 3,
     "solution": false,
     "task": false
    }
   },
   "source": [
    "#### Part I  (4 points)\n",
    "\n",
    "Create a `Bus` class. It should store the following information about the bus:\n",
    "- `idx`: the bus identification index\n",
    "- `dimensions`: the bus width, length and height, in meters\n",
    "- `max_capacity`: the maximum number of passengers of the bus\n",
    "- `num_passengers`: the current number of passengers of the bus\n",
    "\n",
    "In creating the `Bus` class, consider that:\n",
    "- the `idx`, `max_capacity` and `num_passengers` attributes should be represented with non-negative integers.\n",
    "- the `dimensions` attribute should be a list of floats that indicates the width, length and height of the bus in this order; for example, if the bus is 2.5 m wide, 15 m long and 3 m tall, the list should be `[2.5, 15, 3]`.\n",
    "- when a `Bus` instance is created, its `idx`, `dimensions` and `max_capacity` should be specified; however, `num_passengers` should always be initially set to 0.\n",
    "\n",
    "The `Bus` class should have only one method, `update_passengers`. This method updates the number of passengers of the bus when it stops. It should receive two keyword arguments:\n",
    "- `leave`: the number of passengers that leaves the bus at the stop; defaults to zero\n",
    "- `enter`: the number of passengers to enter the bus at the stop; defaults to zero\n",
    "\n",
    "This method should only update the `num_passengers` of the `Bus` instance, and thus does not return anything. In updating `num_passengers`, remember that the maximum number of passengers of the bus should not exceed `max_capacity`, even if that means leaving a fraction of the `enter` passengers waiting for the next bus. If this happens, a warning should be issued with the message \"X people were left waiting for the next bus\", where X is the number of people that could not enter the bus at the stop. To issue this warning, you should use the [**warnings.warn** method](https://docs.python.org/3/library/warnings.html#warnings.warn) (note that we have already imported the `warnings`module for you)."
   ]
  },
  {
   "cell_type": "code",
   "execution_count": null,
   "id": "8dea46d2",
   "metadata": {
    "nbgrader": {
     "grade": false,
     "grade_id": "cell-e4bd0792c4fcba1b",
     "locked": false,
     "schema_version": 3,
     "solution": true,
     "task": false
    }
   },
   "outputs": [],
   "source": [
    "class Bus:\n",
    "    ### BEGIN SOLUTION\n",
    "    def __init__(self, idx, dimensions, max_capacity):\n",
    "        self.idx = idx\n",
    "        self.dimensions = dimensions\n",
    "        self.max_capacity = max_capacity\n",
    "        self.num_passengers = 0\n",
    "        \n",
    "    def update_passengers(self, leave=0, enter=0):\n",
    "        d_passengers = self.num_passengers - leave + enter - self.max_capacity\n",
    "        if d_passengers > 0:\n",
    "            warnings.warn(f\"{d_passengers} people were left waiting for the next bus\")\n",
    "        self.num_passengers -= leave\n",
    "        self.num_passengers = min(self.num_passengers + enter, self.max_capacity)\n",
    "    ### END SOLUTION"
   ]
  },
  {
   "cell_type": "code",
   "execution_count": null,
   "id": "8c397ddd",
   "metadata": {
    "nbgrader": {
     "grade": true,
     "grade_id": "cell-f0f762d780f9cb8b",
     "locked": true,
     "points": 4,
     "schema_version": 3,
     "solution": false,
     "task": false
    },
    "tags": []
   },
   "outputs": [],
   "source": [
    "# This cell has tests to evaluate your answer\n",
    "# The output of this cell will show how many points you scored and,\n",
    "# in case you don't have the correct answer, some error messages\n",
    "\n",
    "\n",
    "bus = Bus(123, [2.5, 15, 3], 30)\n",
    "\n",
    "score = 0\n",
    "\n",
    "try:\n",
    "    assert isinstance(bus, Bus), \"Bus type is wrong!\"\n",
    "    assert bus.idx == 123, \"Idx is wrong!\"\n",
    "    assert bus.dimensions == [2.5, 15, 3], \"Dimensions are wrong!\"\n",
    "    assert bus.max_capacity == 30, \"Max capacity is wrong!\"\n",
    "    assert bus.num_passengers == 0, \"Number of passengers is wrong!\"\n",
    "except AssertionError as e:\n",
    "    print(f\"Failed first test: {e}\")\n",
    "else:\n",
    "    score += 1.5\n",
    "    \n",
    "try:\n",
    "    with warnings.catch_warnings(record=True) as w:\n",
    "        bus.update_passengers(leave=0, enter=20)\n",
    "        assert bus.num_passengers == 20, \"Number of passengers after first stop is wrong!\"\n",
    "\n",
    "        bus = Bus(123, [2.5, 15, 3], 30)\n",
    "        bus.num_passengers = 20\n",
    "        bus.update_passengers()\n",
    "        assert bus.num_passengers == 20, \"Number of passengers after second stop is wrong!\"\n",
    "\n",
    "        bus = Bus(123, [2.5, 15, 3], 30)\n",
    "        bus.num_passengers = 20\n",
    "        bus.update_passengers(leave=5)\n",
    "        assert bus.num_passengers == 15, \"Number of passengers after third stop is wrong!\"\n",
    "\n",
    "except AssertionError as e:\n",
    "    print(f\"Failed second test: {e}\")\n",
    "else:\n",
    "    score += 1.5\n",
    "\n",
    "try:    \n",
    "    with warnings.catch_warnings(record=True) as w:\n",
    "        bus = Bus(123, [2.5, 15, 3], 30)\n",
    "        bus.num_passengers = 20\n",
    "        bus.update_passengers(leave=5)\n",
    "        assert bus.num_passengers == 15, \"Number of passengers after fourth stop is wrong!\"\n",
    "        assert len(w) == 0, \"Warning is incorrectly raised, no passengers are waiting!\"\n",
    "        \n",
    "        bus = Bus(123, [2.5, 15, 3], 30)\n",
    "        bus.num_passengers = 15\n",
    "        bus.update_passengers(enter=20)\n",
    "        assert bus.num_passengers == 30, \"Number of passengers after fifth stop is wrong!\"\n",
    "        assert len(w) == 1, \"A warning was not raised after fifth stop!\"\n",
    "        assert str(w[-1].message) == \"5 people were left waiting for the next bus\", \"The message of the warning raised after fifth stop is wrong!\"\n",
    "        \n",
    "    \n",
    "except AssertionError as e:\n",
    "    print(f\"Failed third test: {e}\")\n",
    "else:\n",
    "    score += 1\n",
    "\n",
    "print(f\"Your score is {score}.\")\n",
    "\n",
    "score"
   ]
  },
  {
   "cell_type": "markdown",
   "id": "fbe58edb",
   "metadata": {
    "nbgrader": {
     "grade": false,
     "grade_id": "cell-8251d8752f7dfdd2",
     "locked": true,
     "schema_version": 3,
     "solution": false,
     "task": false
    }
   },
   "source": [
    "#### Part II (2 points)\n",
    "\n",
    "We will now track the number of passengers in a bus along a route.\n",
    "\n",
    "Write a function called `track_passengers` that receives two arguments:\n",
    "- `bus`: an instance of `Bus`\n",
    "- `stops`: a list of dictionaries with keys `leave` and `enter` that indicate the number of passengers to leave and enter the bus at each stop; for example `[{\"enter\": 10, \"leave\": 0}, {\"enter\": 5, \"leave\": 2}]` represents a sequence of two stops: 10 passengers enter the bus in the first stop, whereas in the second 2 passengers leave and 5 enter the bus. \n",
    "\n",
    "The function should return a list `passengers`, where the elements are the number of passengers after each bus stop in `stops`. The list should thus have the same length as `stops`."
   ]
  },
  {
   "cell_type": "code",
   "execution_count": null,
   "id": "415ea651",
   "metadata": {
    "nbgrader": {
     "grade": false,
     "grade_id": "cell-4cbf77ea8554d92f",
     "locked": false,
     "schema_version": 3,
     "solution": true,
     "task": false
    }
   },
   "outputs": [],
   "source": [
    "def track_passengers(bus, stops):\n",
    "    \"\"\"\n",
    "    Tracks the number of passengers in a bus along a route.\n",
    "\n",
    "    Parameters:\n",
    "    bus (Bus): Bus to be tracked.\n",
    "    stops (list): List of dictionaries representing the stops (i.e. the number\n",
    "    of passengers to hop in/out of the bus) of the route.\n",
    "\n",
    "    Returns:\n",
    "    passengers (list): Number of passengers after each stop in the bus route.\n",
    "    \"\"\"\n",
    "    ### BEGIN SOLUTION\n",
    "    passengers = []\n",
    "    \n",
    "    for stop in stops:\n",
    "        bus.update_passengers(stop[\"leave\"], stop[\"enter\"])\n",
    "        passengers.append(bus.num_passengers)\n",
    "\n",
    "    return passengers\n",
    "    ### END SOLUTION"
   ]
  },
  {
   "cell_type": "code",
   "execution_count": null,
   "id": "b7a6b731",
   "metadata": {
    "nbgrader": {
     "grade": true,
     "grade_id": "cell-1dac271e0fc5c54c",
     "locked": true,
     "points": 2,
     "schema_version": 3,
     "solution": false,
     "task": false
    }
   },
   "outputs": [],
   "source": [
    "# This cell has tests to evaluate your answer\n",
    "# If the cell runs successfully, and no errors are raised, then you get the full score for this exercise\n",
    "# Otherwise, you are not granted any points\n",
    "\n",
    "\n",
    "bus = Bus(123, [2.5, 15, 3], 20)\n",
    "\n",
    "stops = [\n",
    "    {\"enter\": 10, \"leave\": 0},\n",
    "    {\"enter\": 2, \"leave\": 0},\n",
    "    {\"enter\": 5, \"leave\": 8},\n",
    "    {\"enter\": 15, \"leave\": 2},\n",
    "    {\"enter\": 0, \"leave\": 5},\n",
    "]\n",
    "\n",
    "with warnings.catch_warnings():\n",
    "    warnings.simplefilter(\"ignore\")\n",
    "    passengers = track_passengers(bus, stops)\n",
    "    \n",
    "    assert isinstance(passengers, list)\n",
    "    assert len(passengers) == 5\n",
    "    assert passengers == [10, 12, 9, 20, 15]\n",
    "    \n",
    "    from more_tests import test_exercise_3_II\n",
    "    test_exercise_3_II(track_passengers, Bus)"
   ]
  },
  {
   "cell_type": "markdown",
   "id": "ccba9aec",
   "metadata": {
    "nbgrader": {
     "grade": false,
     "grade_id": "cell-10f279b176c403de",
     "locked": true,
     "schema_version": 3,
     "solution": false,
     "task": false
    }
   },
   "source": [
    "#### Part III (1 point)\n",
    "\n",
    "You have probably heard about [The Magic School Bus](https://en.wikipedia.org/wiki/The_Magic_School_Bus_(TV_series)). This was a special school bus in which Miss Frizzle went on exciting field trips with her class, discovering \"locations, creatures, time periods and more \\[...\\] about the wonders of science along the way\".\n",
    "\n",
    "One of the special perks of The Magic School Bus is that it was able to shrink and enter the human body, allowng Miss Frizzle and the students to go on a field trip to learn about cells! How exciting is that?\n",
    "\n",
    "<img src=\"./images/magic_school_bus.jpg\" style=\"width:400px;\">\n",
    "\n",
    "In this exercise, we will write a special class for The Magic School Bus, `MagicSchoolBus`, that inherits the properties of our `Bus` class. `MagicSchoolBus` should inherit all attributes and methods of the `Bus` class, and implement one extra method, called `shrink`, that shrinks the dimensions of the bus. This method takes as argument `factor`, a float representing the shrinking factor.\n",
    "\n",
    "Shrinking a bus by a factor of 10 means that all its dimensions are reduced to a tenth of their original value. For example, shrinking a bus of dimensions `[2.5, 15, 3]` by a factor of 10 updates the `dimensions` atributes to `[0.25, 1.5, 0.3]`."
   ]
  },
  {
   "cell_type": "code",
   "execution_count": null,
   "id": "ca908620",
   "metadata": {
    "nbgrader": {
     "grade": false,
     "grade_id": "cell-8d7bbbf2871cb57a",
     "locked": false,
     "schema_version": 3,
     "solution": true,
     "task": false
    }
   },
   "outputs": [],
   "source": [
    "### BEGIN SOLUTION\n",
    "class MagicSchoolBus(Bus):\n",
    "    def shrink(self, factor):\n",
    "        for i in range(len(self.dimensions)):\n",
    "            self.dimensions[i] /= factor\n",
    "### END SOLUTION"
   ]
  },
  {
   "cell_type": "code",
   "execution_count": null,
   "id": "cb079b53",
   "metadata": {
    "nbgrader": {
     "grade": true,
     "grade_id": "cell-0ad7e152e2d161e8",
     "locked": true,
     "points": 1,
     "schema_version": 3,
     "solution": false,
     "task": false
    },
    "scrolled": true
   },
   "outputs": [],
   "source": [
    "# This cell has tests to evaluate your answer\n",
    "# The output of this cell will show how many points you scored and,\n",
    "# in case you don't have the correct answer, some error messages\n",
    "\n",
    "\n",
    "bus = MagicSchoolBus(123, [2.5, 15, 3], 30)\n",
    "\n",
    "score = 0\n",
    "\n",
    "try:\n",
    "    assert type(bus) == MagicSchoolBus, \"Magic school bus type is wrong!\"\n",
    "    assert isinstance(bus, Bus), \"Magic school bus parent type is wrong!\"\n",
    "    \n",
    "    assert bus.idx == 123, \"Idx is wrong!\"\n",
    "    assert bus.dimensions == [2.5, 15, 3], \"Dimensions are wrong!\"\n",
    "    assert bus.max_capacity == 30, \"Max capacity is wrong!\"\n",
    "    assert bus.num_passengers == 0, \"Number of passengers is wrong!\"\n",
    "except AssertionError as e:\n",
    "    print(f\"Failed first test: {e}\")\n",
    "else:\n",
    "    score += 0.5\n",
    "    \n",
    "try:\n",
    "    bus.shrink(factor=5)\n",
    "    np.testing.assert_almost_equal(bus.dimensions, [x / 5 for x in [2.5, 15, 3]], decimal=2)\n",
    "except AssertionError:\n",
    "    print(\"Failed second test: Magic school bus dimensions are wrong!\")\n",
    "else:\n",
    "    score += 0.5\n",
    "    \n",
    "print(f\"Your score is {score}.\")\n",
    "\n",
    "score"
   ]
  },
  {
   "cell_type": "markdown",
   "id": "6926c667",
   "metadata": {
    "nbgrader": {
     "grade": false,
     "grade_id": "cell-f6b8b3446d0d9801",
     "locked": true,
     "schema_version": 3,
     "solution": false,
     "task": false
    }
   },
   "source": [
    "### Exercise 4\n",
    "\n",
    "[Minesweeper](https://en.wikipedia.org/wiki/Minesweeper_(video_game)) is a puzzle video game which goal is to clear a board containing hidden mines without detonating any of them, with help from clues about the number of neighboring mines in each field.\n",
    "\n",
    "<img src=\"./images/minesweeper.png\" style=\"width:400px;\">\n",
    "\n",
    "In this exercise, we will create the map of clues from the map of mines. The map of mines is given in a matrix that represents the board. In this matrix, cells with mines are filled the string `\"*\"`, and cells without mines are filled with the string `\"-\"`. \n",
    "\n",
    "Here is an example of a map of mines:\n",
    "\n",
    "```python\n",
    "mines_map = np.array([\n",
    "    [\"-\", \"*\", \"-\", \"-\"],\n",
    "    [\"-\", \"-\", \"-\", \"-\"],\n",
    "    [\"-\", \"-\", \"*\", \"-\"],\n",
    "    [\"*\", \"-\", \"-\", \"-\"],\n",
    "    [\"-\", \"-\", \"-\", \"-\"],\n",
    "])\n",
    "```\n",
    "\n",
    "Each cell of the map of clues should have the number of mines in neighbouring cells of the map of mines. For the map of mines above, the map of clues should be:\n",
    "\n",
    "```python\n",
    "clues_map = np.array([\n",
    "    [ 1, -1,  1,  0],\n",
    "    [ 1,  2,  2,  1],\n",
    "    [ 1,  2, -1,  1],\n",
    "    [-1,  2,  1,  1],\n",
    "    [ 1,  1,  0,  0],\n",
    "])\n",
    "```\n",
    "\n",
    "Note that: \n",
    "- all cells with mines have been marked in the map of clues with -1.\n",
    "- matrix boundaries are treated as closed (i.e. `clues_map[4, 1]` does not know about the mine in `mines_map[0, 1]`)"
   ]
  },
  {
   "cell_type": "markdown",
   "id": "3ed2f0dc",
   "metadata": {
    "nbgrader": {
     "grade": false,
     "grade_id": "cell-0938805cfb4a5802",
     "locked": true,
     "schema_version": 3,
     "solution": false,
     "task": false
    }
   },
   "source": [
    "#### Part I (2 points)\n",
    "\n",
    "When navigating a map of mines, it's useful to know which are the cells adjacent to the current one.\n",
    "\n",
    "For example, consider the map of mines presented above, and the mine in position `(0,1)`. The cells adjacent to the mine are the ones flagged with an `O`:\n",
    "\n",
    "```python\n",
    "mines_map = np.array([\n",
    "    [\"O\", \"*\", \"O\", \"-\"],\n",
    "    [\"O\", \"O\", \"O\", \"-\"],\n",
    "    [\"-\", \"-\", \"*\", \"-\"],\n",
    "    [\"*\", \"-\", \"-\", \"-\"],\n",
    "    [\"-\", \"-\", \"-\", \"-\"],\n",
    "])\n",
    "```\n",
    "\n",
    "This means that, the positions of the cells adjacent to the mine are the following ones:\n",
    "- `(0,0)`\n",
    "- `(1,0)`\n",
    "- `(1,1)`\n",
    "- `(1,2)`\n",
    "- `(0,2)`\n",
    "\n",
    "For this exercise, write a function named `get_adjacent_cells`, that receives two arguments:\n",
    "- `cell_position`, represented as a tuple where the first element is the row and the second is the column, and\n",
    "- `mines_map_shape`, represented as a tuple where the first element is the number of rows in the mines map and the second is the number of columns\n",
    "\n",
    "The function should return a list with the positions of the adjacent cells, where each position is represented as a tuple where the first element is the row and the second is the column.\n",
    "\n",
    "You can assume that the map of mines is not empty, i.e, it has at least one row and one column, and that the `cell_position` is inside the map."
   ]
  },
  {
   "cell_type": "code",
   "execution_count": null,
   "id": "5046b095",
   "metadata": {
    "nbgrader": {
     "grade": false,
     "grade_id": "cell-e59124525f4d1a44",
     "locked": false,
     "schema_version": 3,
     "solution": true,
     "task": false
    }
   },
   "outputs": [],
   "source": [
    "def get_adjacent_cells(cell_position, mines_map_shape):\n",
    "    \"\"\"\n",
    "    Determines the positions of the cells adjacent to a given cell in a map of mines.\n",
    "\n",
    "    Parameters:\n",
    "    cell_position (tuple): Position of a cell.\n",
    "    mines_map_shape (tuple): Shape of the mines map.\n",
    "\n",
    "    Returns:\n",
    "    adjacent_cells_positions (list): List with the positions of the adjacent cells.\n",
    "    \"\"\"\n",
    "\n",
    "    ### BEGIN SOLUTION\n",
    "    import itertools\n",
    "\n",
    "    x, y = cell_position\n",
    "    \n",
    "    xs = [i for i in [x-1, x, x+1] if 0 <= i < mines_map_shape[0]]\n",
    "    ys = [i for i in [y-1, y, y+1] if 0 <= i < mines_map_shape[1]]\n",
    "\n",
    "    adjacent_cells = itertools.product(xs, ys)\n",
    "    return [cell for cell in adjacent_cells if cell != cell_position]\n",
    "    ### END SOLUTION"
   ]
  },
  {
   "cell_type": "code",
   "execution_count": null,
   "id": "74aac4de",
   "metadata": {
    "nbgrader": {
     "grade": true,
     "grade_id": "cell-4f35e1ec6ac365eb",
     "locked": true,
     "points": 2,
     "schema_version": 3,
     "solution": false,
     "task": false
    }
   },
   "outputs": [],
   "source": [
    "# This cell has tests to evaluate your answer\n",
    "# If the cell runs successfully, and no errors are raised, then you get the full score for this exercise\n",
    "# Otherwise, you are not granted any points\n",
    "\n",
    "cell_position = (0, 0)\n",
    "mines_map_shape = (5, 4)\n",
    "answer = get_adjacent_cells(cell_position, mines_map_shape)\n",
    "expected_answer = [(0, 1), (1, 0), (1, 1)]\n",
    "assert isinstance(answer, list)\n",
    "for position in answer:\n",
    "    assert isinstance(position, tuple)\n",
    "assert set(answer) == set(expected_answer)\n",
    "\n",
    "cell_position = (0, 0)\n",
    "mines_map_shape = (1, 1)\n",
    "answer = get_adjacent_cells(cell_position, mines_map_shape)\n",
    "expected_answer = []\n",
    "assert isinstance(answer, list)\n",
    "assert set(answer) == set(expected_answer)\n",
    "\n",
    "cell_position = (1, 1)\n",
    "mines_map_shape = (3, 3)\n",
    "answer = get_adjacent_cells(cell_position, mines_map_shape)\n",
    "expected_answer = [(0, 0), (0, 1), (0, 2), (1, 0), (1, 2), (2, 0), (2, 1), (2, 2)]\n",
    "assert isinstance(answer, list)\n",
    "for position in answer:\n",
    "    assert isinstance(position, tuple)\n",
    "assert set(answer) == set(expected_answer)\n",
    "\n",
    "from more_tests import test_exercise_4_I\n",
    "test_exercise_4_I(get_adjacent_cells)"
   ]
  },
  {
   "cell_type": "markdown",
   "id": "0a2c3b57",
   "metadata": {
    "nbgrader": {
     "grade": false,
     "grade_id": "cell-b2450cac56abbade",
     "locked": true,
     "schema_version": 3,
     "solution": false,
     "task": false
    }
   },
   "source": [
    "#### Part II (1 point)\n",
    "\n",
    "Write a function, named `get_clues_map` that receives as argument a numpy matrix `mines_map` that represents the map of mines and returns the corresponding map of clues `clues_map`.\n",
    "\n",
    "You can assume that `mines_map` is not empty, i.e, it has at least one row and one column.\n",
    "\n",
    "**Hint**: you may (and should!) use the function you wrote in Part I."
   ]
  },
  {
   "cell_type": "code",
   "execution_count": null,
   "id": "f0798f21",
   "metadata": {
    "nbgrader": {
     "grade": false,
     "grade_id": "cell-c25d9a32062cfeb0",
     "locked": false,
     "schema_version": 3,
     "solution": true,
     "task": false
    }
   },
   "outputs": [],
   "source": [
    "def get_clues_map(mines_map):\n",
    "    \"\"\"\n",
    "    Determines the map of clues from the map of mines.\n",
    "\n",
    "    Parameters:\n",
    "    mines_map (np.ndarray): Matrix with map of mines.\n",
    "\n",
    "    Returns:\n",
    "    clues_map (np.ndarray): Matrix with map of clues.\n",
    "    \"\"\"\n",
    "    ### BEGIN SOLUTION\n",
    "    clues_map = np.zeros(mines_map.shape)\n",
    "    \n",
    "    for i in range(mines_map.shape[0]):\n",
    "        for j in range(mines_map.shape[1]):\n",
    "            if mines_map[i][j] == \"*\":\n",
    "                clues_map[i][j] = -1\n",
    "                continue\n",
    "\n",
    "            mines_count = 0\n",
    "            for ii, jj in get_adjacent_cells((i, j), mines_map.shape):\n",
    "                if mines_map[ii][jj] == \"*\":\n",
    "                    mines_count += 1\n",
    "\n",
    "            clues_map[i][j] = mines_count\n",
    "\n",
    "    return clues_map\n",
    "    ### END SOLUTION"
   ]
  },
  {
   "cell_type": "code",
   "execution_count": null,
   "id": "bba5b074",
   "metadata": {
    "nbgrader": {
     "grade": true,
     "grade_id": "cell-6993496e56ae5877",
     "locked": true,
     "points": 1,
     "schema_version": 3,
     "solution": false,
     "task": false
    },
    "tags": []
   },
   "outputs": [],
   "source": [
    "# This cell has tests to evaluate your answer\n",
    "# If the cell runs successfully, and no errors are raised, then you get the full score for this exercise\n",
    "# Otherwise, you are not granted any points\n",
    "\n",
    "\n",
    "mines_map = np.array([\n",
    "    [\"-\", \"*\", \"-\", \"-\"],\n",
    "    [\"-\", \"-\", \"-\", \"-\"],\n",
    "    [\"-\", \"-\", \"*\", \"-\"],\n",
    "    [\"*\", \"-\", \"-\", \"-\"],\n",
    "    [\"-\", \"-\", \"-\", \"-\"],\n",
    "])\n",
    "\n",
    "clues_map = get_clues_map(mines_map)\n",
    "\n",
    "assert isinstance(clues_map, np.ndarray)\n",
    "assert clues_map.shape == mines_map.shape\n",
    "np.testing.assert_array_equal(\n",
    "    clues_map, \n",
    "    np.array([\n",
    "        [ 1, -1,  1,  0],\n",
    "        [ 1,  2,  2,  1],\n",
    "        [ 1,  2, -1,  1],\n",
    "        [-1,  2,  1,  1],\n",
    "        [ 1,  1,  0,  0],\n",
    "    ])\n",
    ")\n",
    "\n",
    "from more_tests import test_exercise_4_II\n",
    "test_exercise_4_II(get_clues_map)"
   ]
  },
  {
   "cell_type": "markdown",
   "id": "f558971a",
   "metadata": {
    "nbgrader": {
     "grade": false,
     "grade_id": "cell-397eb2985151cac2",
     "locked": true,
     "schema_version": 3,
     "solution": false,
     "task": false
    }
   },
   "source": [
    "#### Part III (1 point)\n",
    "\n",
    "Write a function, named `get_number_mines` that computes the number of mines from a map of clues.\n",
    "\n",
    "**Hint:** this can be written in one line using numpy indexing."
   ]
  },
  {
   "cell_type": "code",
   "execution_count": null,
   "id": "d4ebadea",
   "metadata": {
    "nbgrader": {
     "grade": false,
     "grade_id": "cell-bfa32892688cc39f",
     "locked": false,
     "schema_version": 3,
     "solution": true,
     "task": false
    }
   },
   "outputs": [],
   "source": [
    "def get_number_mines(clues_map):\n",
    "    \"\"\"\n",
    "    Computes the number of mines from a map of clues.\n",
    "    \n",
    "    Parameters:\n",
    "    clues_map (np.ndarray): Matrix with map of clues.\n",
    "\n",
    "    Returns:\n",
    "    num_mines (int): Number of mines in the board.\n",
    "    \"\"\"\n",
    "    ### BEGIN SOLUTION\n",
    "    num_mines = len(np.where(clues_map == -1)[0])\n",
    "    \n",
    "    return num_mines\n",
    "    ### END SOLUTION"
   ]
  },
  {
   "cell_type": "code",
   "execution_count": null,
   "id": "3e50a14d",
   "metadata": {
    "nbgrader": {
     "grade": true,
     "grade_id": "cell-273ffd34483f91fb",
     "locked": true,
     "points": 1,
     "schema_version": 3,
     "solution": false,
     "task": false
    }
   },
   "outputs": [],
   "source": [
    "# This cell has tests to evaluate your answer\n",
    "# If the cell runs successfully, and no errors are raised, then you get the full score for this exercise\n",
    "# Otherwise, you are not granted any points\n",
    "\n",
    "\n",
    "clues_map = np.array([\n",
    "    [ 1, -1,  1,  0],\n",
    "    [ 1,  2,  2,  1],\n",
    "    [ 1,  2, -1,  1],\n",
    "    [-1,  2,  1,  1],\n",
    "    [ 1,  1,  0,  0],\n",
    "])\n",
    "num_mines = get_number_mines(clues_map)\n",
    "\n",
    "assert num_mines == 3\n",
    "\n",
    "from more_tests import test_exercise_4_III\n",
    "test_exercise_4_III(get_number_mines)"
   ]
  }
 ],
 "metadata": {
  "celltoolbar": "Create Assignment",
  "kernelspec": {
   "display_name": "Python 3",
   "language": "python",
   "name": "python3"
  },
  "language_info": {
   "codemirror_mode": {
    "name": "ipython",
    "version": 3
   },
   "file_extension": ".py",
   "mimetype": "text/x-python",
   "name": "python",
   "nbconvert_exporter": "python",
   "pygments_lexer": "ipython3",
   "version": "3.8.0"
  }
 },
 "nbformat": 4,
 "nbformat_minor": 5
}
